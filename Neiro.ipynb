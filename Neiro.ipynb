{
 "cells": [
  {
   "cell_type": "code",
   "execution_count": 2,
   "metadata": {},
   "outputs": [],
   "source": [
    "from tensorflow.python.keras.preprocessing.image import ImageDataGenerator\n",
    "from tensorflow.python.keras.models import Sequential\n",
    "from tensorflow.python.keras.layers import Conv2D, MaxPooling2D\n",
    "from tensorflow.python.keras.layers import Activation, Dropout, Flatten, Dense"
   ]
  },
  {
   "cell_type": "code",
   "execution_count": 3,
   "metadata": {},
   "outputs": [],
   "source": [
    "# Каталог с данными для обучения\n",
    "train_dir = 'C:/Users/leva2/Desktop/catsndogs/train/'\n",
    "# Каталог с данными для проверки\n",
    "val_dir = 'C:/Users/leva2/Desktop/catsndogs/val/'\n",
    "# Каталог с данными для тестирования\n",
    "test_dir = 'C:/Users/leva2/Desktop/catsndogs/test/'\n",
    "# Размеры изображения\n",
    "img_width, img_height = 150, 150\n",
    "# Размерность тензора на основе изображения для входных данных в нейронную сеть\n",
    "# backend Tensorflow, channels_last\n",
    "input_shape = (img_width, img_height, 3)\n",
    "# Количество эпох\n",
    "epochs = 50\n",
    "# Размер мини-выборки\n",
    "batch_size = 16\n",
    "# Количество изображений для обучения\n",
    "nb_train_samples = 1824\n",
    "# Количество изображений для проверки\n",
    "nb_validation_samples = 912\n",
    "# Количество изображений для тестирования\n",
    "nb_test_samples = 912"
   ]
  },
  {
   "cell_type": "code",
   "execution_count": 4,
   "metadata": {},
   "outputs": [
    {
     "name": "stdout",
     "output_type": "stream",
     "text": [
      "WARNING:tensorflow:From C:\\Users\\leva2\\.conda\\envs\\lab\\lib\\site-packages\\tensorflow\\python\\ops\\resource_variable_ops.py:435: colocate_with (from tensorflow.python.framework.ops) is deprecated and will be removed in a future version.\n",
      "Instructions for updating:\n",
      "Colocations handled automatically by placer.\n",
      "WARNING:tensorflow:From C:\\Users\\leva2\\.conda\\envs\\lab\\lib\\site-packages\\tensorflow\\python\\keras\\layers\\core.py:143: calling dropout (from tensorflow.python.ops.nn_ops) with keep_prob is deprecated and will be removed in a future version.\n",
      "Instructions for updating:\n",
      "Please use `rate` instead of `keep_prob`. Rate should be set to `rate = 1 - keep_prob`.\n"
     ]
    }
   ],
   "source": [
    "model = Sequential()\n",
    "model.add(Conv2D(16, (3, 3), input_shape=input_shape,activation = 'relu', padding='same'))\n",
    "model.add(MaxPooling2D(pool_size=(2, 2)))\n",
    "\n",
    "model.add(Conv2D(32, (3, 3), activation = 'relu', padding='same'))\n",
    "model.add(MaxPooling2D(pool_size=(2, 2)))\n",
    "\n",
    "model.add(Conv2D(64, (3, 3), activation = 'relu', padding='same'))\n",
    "model.add(MaxPooling2D(pool_size=(2, 2)))\n",
    "\n",
    "model.add(Flatten())\n",
    "model.add(Dense(128, activation = 'relu'))\n",
    "model.add(Dropout(0.1))\n",
    "model.add(Dense(4, activation = 'softmax'))"
   ]
  },
  {
   "cell_type": "code",
   "execution_count": 5,
   "metadata": {},
   "outputs": [],
   "source": [
    "model.compile(loss='categorical_crossentropy',\n",
    "              optimizer='adam',\n",
    "              metrics=['accuracy'])"
   ]
  },
  {
   "cell_type": "code",
   "execution_count": null,
   "metadata": {},
   "outputs": [],
   "source": []
  },
  {
   "cell_type": "code",
   "execution_count": 7,
   "metadata": {},
   "outputs": [],
   "source": [
    "datagen = ImageDataGenerator(rescale=1. / 255, \n",
    "                             horizontal_flip=True, \n",
    "                             rotation_range=45, \n",
    "                             zoom_range=0.5,\n",
    "                             width_shift_range=.15,\n",
    "                             height_shift_range=.15)"
   ]
  },
  {
   "cell_type": "code",
   "execution_count": 8,
   "metadata": {},
   "outputs": [
    {
     "name": "stdout",
     "output_type": "stream",
     "text": [
      "Found 1824 images belonging to 4 classes.\n"
     ]
    }
   ],
   "source": [
    "train_generator = datagen.flow_from_directory(\n",
    "    train_dir,\n",
    "    target_size=(img_width, img_height),\n",
    "    batch_size=batch_size,\n",
    "    class_mode='categorical')"
   ]
  },
  {
   "cell_type": "code",
   "execution_count": 9,
   "metadata": {},
   "outputs": [
    {
     "name": "stdout",
     "output_type": "stream",
     "text": [
      "Found 912 images belonging to 4 classes.\n"
     ]
    }
   ],
   "source": [
    "val_generator = datagen.flow_from_directory(\n",
    "    val_dir,\n",
    "    target_size=(img_width, img_height),\n",
    "    batch_size=batch_size,\n",
    "    class_mode='categorical')"
   ]
  },
  {
   "cell_type": "code",
   "execution_count": 10,
   "metadata": {},
   "outputs": [
    {
     "name": "stdout",
     "output_type": "stream",
     "text": [
      "Found 916 images belonging to 4 classes.\n"
     ]
    }
   ],
   "source": [
    "test_generator = datagen.flow_from_directory(\n",
    "    test_dir,\n",
    "    target_size=(img_width, img_height),\n",
    "    batch_size=batch_size,\n",
    "    class_mode='categorical')"
   ]
  },
  {
   "cell_type": "code",
   "execution_count": 11,
   "metadata": {},
   "outputs": [
    {
     "name": "stdout",
     "output_type": "stream",
     "text": [
      "WARNING:tensorflow:From C:\\Users\\leva2\\.conda\\envs\\lab\\lib\\site-packages\\tensorflow\\python\\ops\\math_ops.py:3066: to_int32 (from tensorflow.python.ops.math_ops) is deprecated and will be removed in a future version.\n",
      "Instructions for updating:\n",
      "Use tf.cast instead.\n",
      "Epoch 1/50\n",
      "57/57 [==============================] - 26s 460ms/step - loss: 1.0942 - acc: 0.5099\n",
      "114/114 [==============================] - 110s 961ms/step - loss: 1.2640 - acc: 0.4084 - val_loss: 1.0942 - val_acc: 0.5099\n",
      "Epoch 2/50\n",
      "57/57 [==============================] - 25s 442ms/step - loss: 0.9863 - acc: 0.5888\n",
      "114/114 [==============================] - 107s 943ms/step - loss: 1.0883 - acc: 0.4962 - val_loss: 0.9863 - val_acc: 0.5888\n",
      "Epoch 3/50\n",
      "57/57 [==============================] - 25s 440ms/step - loss: 0.9707 - acc: 0.5899\n",
      "114/114 [==============================] - 107s 938ms/step - loss: 1.0390 - acc: 0.5291 - val_loss: 0.9707 - val_acc: 0.5899\n",
      "Epoch 4/50\n",
      "57/57 [==============================] - 25s 436ms/step - loss: 0.8838 - acc: 0.6096\n",
      "114/114 [==============================] - 104s 916ms/step - loss: 0.9730 - acc: 0.5779 - val_loss: 0.8838 - val_acc: 0.6096\n",
      "Epoch 5/50\n",
      "57/57 [==============================] - 29s 511ms/step - loss: 0.9489 - acc: 0.5877\n",
      "114/114 [==============================] - 118s 1s/step - loss: 0.9578 - acc: 0.5833 - val_loss: 0.9489 - val_acc: 0.5877\n",
      "Epoch 6/50\n",
      "57/57 [==============================] - 29s 507ms/step - loss: 0.9072 - acc: 0.5998\n",
      "114/114 [==============================] - 123s 1s/step - loss: 0.9312 - acc: 0.5828 - val_loss: 0.9072 - val_acc: 0.5998\n",
      "Epoch 7/50\n",
      "57/57 [==============================] - 29s 512ms/step - loss: 0.9682 - acc: 0.5888\n",
      "114/114 [==============================] - 124s 1s/step - loss: 0.9349 - acc: 0.5910 - val_loss: 0.9682 - val_acc: 0.5888\n",
      "Epoch 8/50\n",
      "57/57 [==============================] - 29s 507ms/step - loss: 0.8798 - acc: 0.6338\n",
      "114/114 [==============================] - 126s 1s/step - loss: 0.8782 - acc: 0.6206 - val_loss: 0.8798 - val_acc: 0.6338\n",
      "Epoch 9/50\n",
      "57/57 [==============================] - 29s 511ms/step - loss: 0.8755 - acc: 0.6075\n",
      "114/114 [==============================] - 126s 1s/step - loss: 0.8783 - acc: 0.6096 - val_loss: 0.8755 - val_acc: 0.6075\n",
      "Epoch 10/50\n",
      "57/57 [==============================] - 28s 498ms/step - loss: 0.8208 - acc: 0.6491\n",
      "114/114 [==============================] - 123s 1s/step - loss: 0.8554 - acc: 0.6261 - val_loss: 0.8208 - val_acc: 0.6491\n",
      "Epoch 11/50\n",
      "57/57 [==============================] - 30s 518ms/step - loss: 0.8106 - acc: 0.6294\n",
      "114/114 [==============================] - 131s 1s/step - loss: 0.8459 - acc: 0.6332 - val_loss: 0.8106 - val_acc: 0.6294\n",
      "Epoch 12/50\n",
      "57/57 [==============================] - 29s 502ms/step - loss: 0.8128 - acc: 0.6382\n",
      "114/114 [==============================] - 124s 1s/step - loss: 0.8372 - acc: 0.6360 - val_loss: 0.8128 - val_acc: 0.6382\n",
      "Epoch 13/50\n",
      "57/57 [==============================] - 29s 516ms/step - loss: 0.8311 - acc: 0.6447\n",
      "114/114 [==============================] - 127s 1s/step - loss: 0.8112 - acc: 0.6711 - val_loss: 0.8311 - val_acc: 0.6447\n",
      "Epoch 14/50\n",
      "57/57 [==============================] - 29s 511ms/step - loss: 0.7573 - acc: 0.6743\n",
      "114/114 [==============================] - 127s 1s/step - loss: 0.8176 - acc: 0.6678 - val_loss: 0.7573 - val_acc: 0.6743\n",
      "Epoch 15/50\n",
      "57/57 [==============================] - 30s 522ms/step - loss: 0.7700 - acc: 0.6634\n",
      "114/114 [==============================] - 130s 1s/step - loss: 0.8019 - acc: 0.6672 - val_loss: 0.7700 - val_acc: 0.6634\n",
      "Epoch 16/50\n",
      "57/57 [==============================] - 29s 508ms/step - loss: 0.7680 - acc: 0.6842\n",
      "114/114 [==============================] - 129s 1s/step - loss: 0.7859 - acc: 0.6579 - val_loss: 0.7680 - val_acc: 0.6842\n",
      "Epoch 17/50\n",
      "57/57 [==============================] - 29s 517ms/step - loss: 0.8490 - acc: 0.6118\n",
      "114/114 [==============================] - 131s 1s/step - loss: 0.8071 - acc: 0.6502 - val_loss: 0.8490 - val_acc: 0.6118\n",
      "Epoch 18/50\n",
      "57/57 [==============================] - 30s 524ms/step - loss: 0.8176 - acc: 0.6667\n",
      "114/114 [==============================] - 133s 1s/step - loss: 0.7983 - acc: 0.6606 - val_loss: 0.8176 - val_acc: 0.6667\n",
      "Epoch 19/50\n",
      "57/57 [==============================] - 31s 539ms/step - loss: 0.8390 - acc: 0.6590\n",
      "114/114 [==============================] - 132s 1s/step - loss: 0.7906 - acc: 0.6661 - val_loss: 0.8390 - val_acc: 0.6590\n",
      "Epoch 20/50\n",
      "57/57 [==============================] - 29s 510ms/step - loss: 0.8228 - acc: 0.6546\n",
      "114/114 [==============================] - 125s 1s/step - loss: 0.7400 - acc: 0.6870 - val_loss: 0.8228 - val_acc: 0.6546\n",
      "Epoch 21/50\n",
      "57/57 [==============================] - 29s 507ms/step - loss: 0.7504 - acc: 0.7094\n",
      "114/114 [==============================] - 125s 1s/step - loss: 0.7739 - acc: 0.6760 - val_loss: 0.7504 - val_acc: 0.7094\n",
      "Epoch 22/50\n",
      "57/57 [==============================] - 29s 505ms/step - loss: 0.7896 - acc: 0.6721\n",
      "114/114 [==============================] - 123s 1s/step - loss: 0.7501 - acc: 0.6804 - val_loss: 0.7896 - val_acc: 0.6721\n",
      "Epoch 23/50\n",
      "57/57 [==============================] - 29s 506ms/step - loss: 0.7889 - acc: 0.6820\n",
      "114/114 [==============================] - 123s 1s/step - loss: 0.7643 - acc: 0.6793 - val_loss: 0.7889 - val_acc: 0.6820\n",
      "Epoch 24/50\n",
      "57/57 [==============================] - 29s 500ms/step - loss: 0.7483 - acc: 0.7050\n",
      "114/114 [==============================] - 127s 1s/step - loss: 0.7219 - acc: 0.7050 - val_loss: 0.7483 - val_acc: 0.7050\n",
      "Epoch 25/50\n",
      "57/57 [==============================] - 29s 506ms/step - loss: 0.8544 - acc: 0.6601\n",
      "114/114 [==============================] - 124s 1s/step - loss: 0.7339 - acc: 0.7023 - val_loss: 0.8544 - val_acc: 0.6601\n",
      "Epoch 26/50\n",
      "57/57 [==============================] - 29s 509ms/step - loss: 0.8292 - acc: 0.6700\n",
      "114/114 [==============================] - 124s 1s/step - loss: 0.7146 - acc: 0.7083 - val_loss: 0.8292 - val_acc: 0.6700\n",
      "Epoch 27/50\n",
      "57/57 [==============================] - 29s 505ms/step - loss: 0.7430 - acc: 0.6886\n",
      "114/114 [==============================] - 122s 1s/step - loss: 0.7155 - acc: 0.6979 - val_loss: 0.7430 - val_acc: 0.6886\n",
      "Epoch 28/50\n",
      "57/57 [==============================] - 29s 501ms/step - loss: 0.7779 - acc: 0.6864\n",
      "114/114 [==============================] - 123s 1s/step - loss: 0.7111 - acc: 0.7061 - val_loss: 0.7779 - val_acc: 0.6864\n",
      "Epoch 29/50\n",
      "57/57 [==============================] - 29s 504ms/step - loss: 0.7480 - acc: 0.6963\n",
      "114/114 [==============================] - 125s 1s/step - loss: 0.7008 - acc: 0.7138 - val_loss: 0.7480 - val_acc: 0.6963\n",
      "Epoch 30/50\n",
      "57/57 [==============================] - 29s 502ms/step - loss: 0.7244 - acc: 0.7171\n",
      "114/114 [==============================] - 125s 1s/step - loss: 0.6833 - acc: 0.7237 - val_loss: 0.7244 - val_acc: 0.7171\n",
      "Epoch 31/50\n",
      "57/57 [==============================] - 29s 509ms/step - loss: 0.7228 - acc: 0.7346\n",
      "114/114 [==============================] - 124s 1s/step - loss: 0.6797 - acc: 0.7231 - val_loss: 0.7228 - val_acc: 0.7346\n",
      "Epoch 32/50\n",
      "57/57 [==============================] - 32s 556ms/step - loss: 0.7163 - acc: 0.7116\n",
      "114/114 [==============================] - 128s 1s/step - loss: 0.6952 - acc: 0.7177 - val_loss: 0.7163 - val_acc: 0.7116\n",
      "Epoch 33/50\n",
      "57/57 [==============================] - 29s 503ms/step - loss: 0.7226 - acc: 0.6985\n",
      "114/114 [==============================] - 118s 1s/step - loss: 0.6557 - acc: 0.7177 - val_loss: 0.7226 - val_acc: 0.6985\n",
      "Epoch 34/50\n",
      "57/57 [==============================] - 27s 477ms/step - loss: 0.7215 - acc: 0.6963\n",
      "114/114 [==============================] - 118s 1s/step - loss: 0.6583 - acc: 0.7177 - val_loss: 0.7215 - val_acc: 0.6963\n",
      "Epoch 35/50\n",
      "57/57 [==============================] - 27s 476ms/step - loss: 0.7426 - acc: 0.7083\n",
      "114/114 [==============================] - 114s 1s/step - loss: 0.6754 - acc: 0.7215 - val_loss: 0.7426 - val_acc: 0.7083\n",
      "Epoch 36/50\n",
      "57/57 [==============================] - 26s 464ms/step - loss: 0.7681 - acc: 0.6886\n",
      "114/114 [==============================] - 115s 1s/step - loss: 0.6253 - acc: 0.7451 - val_loss: 0.7681 - val_acc: 0.6886\n",
      "Epoch 37/50\n",
      "57/57 [==============================] - 27s 473ms/step - loss: 0.7109 - acc: 0.7105\n",
      "114/114 [==============================] - 115s 1s/step - loss: 0.6777 - acc: 0.7111 - val_loss: 0.7109 - val_acc: 0.7105\n",
      "Epoch 38/50\n",
      "57/57 [==============================] - 27s 467ms/step - loss: 0.7711 - acc: 0.6952\n",
      "114/114 [==============================] - 112s 987ms/step - loss: 0.6537 - acc: 0.7314 - val_loss: 0.7711 - val_acc: 0.6952\n",
      "Epoch 39/50\n",
      "57/57 [==============================] - 27s 475ms/step - loss: 0.8045 - acc: 0.6820\n",
      "114/114 [==============================] - 115s 1s/step - loss: 0.6473 - acc: 0.7303 - val_loss: 0.8045 - val_acc: 0.6820\n",
      "Epoch 40/50\n",
      "57/57 [==============================] - 27s 471ms/step - loss: 0.7379 - acc: 0.7050\n",
      "114/114 [==============================] - 114s 999ms/step - loss: 0.6249 - acc: 0.7434 - val_loss: 0.7379 - val_acc: 0.7050\n",
      "Epoch 41/50\n",
      "57/57 [==============================] - 27s 479ms/step - loss: 0.7746 - acc: 0.7050\n",
      "114/114 [==============================] - 117s 1s/step - loss: 0.6100 - acc: 0.7462 - val_loss: 0.7746 - val_acc: 0.7050\n",
      "Epoch 42/50\n",
      "57/57 [==============================] - 27s 469ms/step - loss: 0.6900 - acc: 0.7325\n",
      "114/114 [==============================] - 114s 999ms/step - loss: 0.5968 - acc: 0.7582 - val_loss: 0.6900 - val_acc: 0.7325\n",
      "Epoch 43/50\n",
      "57/57 [==============================] - 27s 481ms/step - loss: 0.7533 - acc: 0.7160\n",
      "114/114 [==============================] - 117s 1s/step - loss: 0.5962 - acc: 0.7566 - val_loss: 0.7533 - val_acc: 0.7160\n",
      "Epoch 44/50\n",
      "57/57 [==============================] - 27s 479ms/step - loss: 0.7502 - acc: 0.7105\n",
      "114/114 [==============================] - 116s 1s/step - loss: 0.6190 - acc: 0.7500 - val_loss: 0.7502 - val_acc: 0.7105\n",
      "Epoch 45/50\n",
      "57/57 [==============================] - 27s 482ms/step - loss: 0.7475 - acc: 0.6919\n",
      "114/114 [==============================] - 115s 1s/step - loss: 0.6038 - acc: 0.7560 - val_loss: 0.7475 - val_acc: 0.6919\n",
      "Epoch 46/50\n",
      "57/57 [==============================] - 27s 476ms/step - loss: 0.7450 - acc: 0.7237\n",
      "114/114 [==============================] - 115s 1s/step - loss: 0.5739 - acc: 0.7643 - val_loss: 0.7450 - val_acc: 0.7237\n",
      "Epoch 47/50\n",
      "57/57 [==============================] - 33s 584ms/step - loss: 0.6902 - acc: 0.7226\n",
      "114/114 [==============================] - 126s 1s/step - loss: 0.6087 - acc: 0.7549 - val_loss: 0.6902 - val_acc: 0.7226\n",
      "Epoch 48/50\n",
      "57/57 [==============================] - 29s 508ms/step - loss: 0.7695 - acc: 0.7138\n",
      "114/114 [==============================] - 125s 1s/step - loss: 0.5642 - acc: 0.7604 - val_loss: 0.7695 - val_acc: 0.7138\n",
      "Epoch 49/50\n",
      "57/57 [==============================] - 27s 466ms/step - loss: 0.7700 - acc: 0.7116\n",
      "114/114 [==============================] - 116s 1s/step - loss: 0.5675 - acc: 0.7599 - val_loss: 0.7700 - val_acc: 0.7116\n",
      "Epoch 50/50\n",
      "57/57 [==============================] - 28s 497ms/step - loss: 0.7051 - acc: 0.7094\n",
      "114/114 [==============================] - 121s 1s/step - loss: 0.5778 - acc: 0.7659 - val_loss: 0.7051 - val_acc: 0.7094\n"
     ]
    }
   ],
   "source": [
    "history=model.fit_generator(\n",
    "    train_generator,\n",
    "    steps_per_epoch=nb_train_samples // batch_size,\n",
    "    epochs=epochs,\n",
    "    validation_data=val_generator,\n",
    "    validation_steps=nb_validation_samples // batch_size)"
   ]
  },
  {
   "cell_type": "code",
   "execution_count": 18,
   "metadata": {},
   "outputs": [],
   "source": [
    "scores = model.evaluate_generator(test_generator, nb_test_samples // batch_size)"
   ]
  },
  {
   "cell_type": "code",
   "execution_count": 19,
   "metadata": {},
   "outputs": [
    {
     "name": "stdout",
     "output_type": "stream",
     "text": [
      "Точность предикта на тестовых данных: 68.23%\n"
     ]
    }
   ],
   "source": [
    "print(\"Точность предикта на тестовых данных: %.2f%%\" % (scores[1]*100))"
   ]
  },
  {
   "cell_type": "code",
   "execution_count": 20,
   "metadata": {},
   "outputs": [],
   "source": [
    "model.save('C:/Users/leva2/Desktop/Neiro.h5')"
   ]
  },
  {
   "cell_type": "code",
   "execution_count": 21,
   "metadata": {},
   "outputs": [
    {
     "data": {
      "image/png": "[encoded data removed]",
      "text/plain": [
       "<Figure size 576x576 with 2 Axes>"
      ]
     },
     "metadata": {
      "needs_background": "light"
     },
     "output_type": "display_data"
    }
   ],
   "source": [
    "from matplotlib import pyplot as plt\n",
    "acc = history.history['acc']\n",
    "val_acc = history.history['val_acc']\n",
    "\n",
    "loss = history.history['loss']\n",
    "val_loss = history.history['val_loss']\n",
    "\n",
    "epochs_range = range(epochs)\n",
    "\n",
    "plt.figure(figsize=(8, 8))\n",
    "plt.subplot(1, 2, 1)\n",
    "plt.plot(epochs_range, acc, label='Training Accuracy')\n",
    "plt.plot(epochs_range, val_acc, label='Validation Accuracy')\n",
    "plt.legend(loc='lower right')\n",
    "plt.title('Training and Validation Accuracy')\n",
    "\n",
    "plt.subplot(1, 2, 2)\n",
    "plt.plot(epochs_range, loss, label='Training Loss')\n",
    "plt.plot(epochs_range, val_loss, label='Validation Loss')\n",
    "plt.legend(loc='upper right')\n",
    "plt.title('Training and Validation Loss')\n",
    "plt.show()"
   ]
  },
  {
   "cell_type": "code",
   "execution_count": 48,
   "metadata": {},
   "outputs": [
    {
     "data": {
      "text/plain": [
       "array([[0.00532185, 0.20546162, 0.671     , 0.11821648]], dtype=float32)"
      ]
     },
     "execution_count": 48,
     "metadata": {},
     "output_type": "execute_result"
    }
   ],
   "source": [
    "from skimage import io\n",
    "from skimage.transform import rescale, resize, downscale_local_mean\n",
    "\n",
    "img = io.imread('C:/Users/leva2/Desktop/catsndogs/data/duck.185.jpg')\n",
    "img = img/255\n",
    "img = resize(img, (150, 150),\n",
    "                       anti_aliasing=True)\n",
    "img = img.reshape((1,img_width, img_height, 3))\n",
    "model.predict(img)"
   ]
  },
  {
   "cell_type": "code",
   "execution_count": 49,
   "metadata": {},
   "outputs": [
    {
     "data": {
      "text/plain": [
       "{'cats': 0, 'dogs': 1, 'ducks': 2, 'frogs': 3}"
      ]
     },
     "execution_count": 49,
     "metadata": {},
     "output_type": "execute_result"
    }
   ],
   "source": [
    "labels = (train_generator.class_indices)\n",
    "labels"
   ]
  },
  {
   "cell_type": "code",
   "execution_count": null,
   "metadata": {},
   "outputs": [],
   "source": []
  },
  {
   "cell_type": "code",
   "execution_count": 39,
   "metadata": {},
   "outputs": [
    {
     "data": {
      "text/plain": [
       "array([[[[0.09491333, 0.26091646, 0.02749647],\n",
       "         [0.10516165, 0.26445543, 0.02696017],\n",
       "         [0.06452441, 0.20432405, 0.02914727],\n",
       "         ...,\n",
       "         [0.19964902, 0.36432029, 0.14740303],\n",
       "         [0.19738349, 0.3497182 , 0.12396585],\n",
       "         [0.16423135, 0.33704806, 0.10233766]],\n",
       "\n",
       "        [[0.09532227, 0.27527403, 0.01340911],\n",
       "         [0.07927726, 0.24563562, 0.01064025],\n",
       "         [0.07082511, 0.20723209, 0.02317531],\n",
       "         ...,\n",
       "         [0.19900532, 0.35980706, 0.13451835],\n",
       "         [0.18787289, 0.35027502, 0.10915189],\n",
       "         [0.16024884, 0.34006353, 0.07513867]],\n",
       "\n",
       "        [[0.16332506, 0.27932833, 0.0434927 ],\n",
       "         [0.12932063, 0.28644753, 0.02062868],\n",
       "         [0.0773558 , 0.21574315, 0.02132885],\n",
       "         ...,\n",
       "         [0.18315444, 0.34083704, 0.10571912],\n",
       "         [0.172936  , 0.34704442, 0.09508687],\n",
       "         [0.16153963, 0.34336741, 0.08118355]],\n",
       "\n",
       "        ...,\n",
       "\n",
       "        [[0.54324548, 0.48864753, 0.40903818],\n",
       "         [0.59717577, 0.56453301, 0.48529914],\n",
       "         [0.47315144, 0.45338587, 0.3751968 ],\n",
       "         ...,\n",
       "         [0.13782739, 0.2391809 , 0.09854946],\n",
       "         [0.15077349, 0.25345881, 0.09013789],\n",
       "         [0.14984791, 0.23601819, 0.05420983]],\n",
       "\n",
       "        [[0.4276316 , 0.3880546 , 0.29962642],\n",
       "         [0.51641894, 0.4806222 , 0.42052965],\n",
       "         [0.43030506, 0.41804904, 0.34764239],\n",
       "         ...,\n",
       "         [0.14229649, 0.2459323 , 0.09386636],\n",
       "         [0.17279657, 0.27605645, 0.10802023],\n",
       "         [0.21305034, 0.28798524, 0.13238008]],\n",
       "\n",
       "        [[0.41720846, 0.38833033, 0.29329224],\n",
       "         [0.41174128, 0.37193815, 0.28031629],\n",
       "         [0.45724384, 0.41021784, 0.30806601],\n",
       "         ...,\n",
       "         [0.15329964, 0.26426514, 0.09373668],\n",
       "         [0.15813126, 0.26196523, 0.108803  ],\n",
       "         [0.25516524, 0.32107764, 0.18806691]]]])"
      ]
     },
     "execution_count": 39,
     "metadata": {},
     "output_type": "execute_result"
    }
   ],
   "source": []
  },
  {
   "cell_type": "code",
   "execution_count": null,
   "metadata": {},
   "outputs": [],
   "source": []
  }
 ],
 "metadata": {
  "kernelspec": {
   "display_name": "Python 3",
   "language": "python",
   "name": "python3"
  },
  "language_info": {
   "codemirror_mode": {
    "name": "ipython",
    "version": 3
   },
   "file_extension": ".py",
   "mimetype": "text/x-python",
   "name": "python",
   "nbconvert_exporter": "python",
   "pygments_lexer": "ipython3",
   "version": "3.8.8"
  }
 },
 "nbformat": 4,
 "nbformat_minor": 2
}
